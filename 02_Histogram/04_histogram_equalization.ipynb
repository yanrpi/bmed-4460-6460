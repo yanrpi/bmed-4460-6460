{
 "cells": [
  {
   "cell_type": "code",
   "execution_count": null,
   "metadata": {},
   "outputs": [],
   "source": [
    "import numpy as np\n",
    "import imageio\n",
    "import matplotlib.pyplot as plt"
   ]
  },
  {
   "cell_type": "code",
   "execution_count": null,
   "metadata": {},
   "outputs": [],
   "source": [
    "#fName = \"tissue.png\"\n",
    "#fName = \"micro.png\"\n",
    "fName = \"flower.jpg\"\n",
    "\n",
    "I = imageio.imread(fName)\n",
    "if len(I.shape) > 2:\n",
    "    I = I[:,:,0]\n",
    "print(I.dtype)\n",
    "print(I.shape)\n",
    "\n",
    "print(I.min())\n",
    "print(I.mean())\n",
    "print(I.std())\n",
    "\n",
    "plt.imshow(I, cmap='gray', vmin=0, vmax=255)"
   ]
  },
  {
   "cell_type": "code",
   "execution_count": null,
   "metadata": {},
   "outputs": [],
   "source": [
    "hist, bins = np.histogram(I, bins=256, range=[0,256])\n",
    "#\n",
    "# 1. Write your own code to compute the histogram of an image \n",
    "# to replace the above line of statement\n",
    "#\n",
    "# Initialize\n",
    "#\n",
    "# hist = np.zeros(256,)\n",
    "# ??????\n",
    "#\n",
    "# bins = np.arange(257)\n",
    "#\n",
    "\n",
    "cdf = np.cumsum(hist)\n",
    "\n",
    "height, width = I.shape\n",
    "norm_cum_hist = cdf / (height * width)\n",
    "norm_hist = hist / hist.max()\n",
    "\n",
    "#width = (bins[1] - bins[0])\n",
    "center = (bins[:-1] + bins[1:]) / 2\n",
    "plt.bar(center, norm_hist, align='center')\n",
    "plt.plot(norm_cum_hist, color='r')\n",
    "plt.show()"
   ]
  },
  {
   "cell_type": "code",
   "execution_count": null,
   "metadata": {},
   "outputs": [],
   "source": [
    "#cdf_min = cdf / 4 * 3\n",
    "cdf_min = 1\n",
    "L = 256\n",
    "hists_cdf = ((cdf - cdf_min)/(height * width - cdf_min) * (L - 1)).astype(\"uint8\")\n",
    "\n",
    "# mapping\n",
    "img_eq = hists_cdf[I]\n",
    "plt.imshow(img_eq, cmap='gray')"
   ]
  },
  {
   "cell_type": "code",
   "execution_count": null,
   "metadata": {},
   "outputs": [],
   "source": [
    "#\n",
    "# 2. Show the equalized histogram and \n",
    "#    Cumulative Distribution Function (CDF)\n",
    "#\n",
    "hist, bins = np.histogram(img_eq, bins=256, range=[0,256])\n",
    "\n",
    "cdf = np.cumsum(hist)\n",
    "norm_cum_hist = cdf / (height * width)\n",
    "norm_hist = hist / hist.max()\n",
    "\n",
    "center = (bins[:-1] + bins[1:]) / 2\n",
    "plt.bar(center, norm_hist, align='center')\n",
    "plt.plot(norm_cum_hist, color='r')\n",
    "plt.show()"
   ]
  }
 ],
 "metadata": {
  "kernelspec": {
   "display_name": "Python 3 (ipykernel)",
   "language": "python",
   "name": "python3"
  },
  "language_info": {
   "codemirror_mode": {
    "name": "ipython",
    "version": 3
   },
   "file_extension": ".py",
   "mimetype": "text/x-python",
   "name": "python",
   "nbconvert_exporter": "python",
   "pygments_lexer": "ipython3",
   "version": "3.7.3"
  }
 },
 "nbformat": 4,
 "nbformat_minor": 2
}
