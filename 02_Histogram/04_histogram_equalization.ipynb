{
 "cells": [
  {
   "cell_type": "markdown",
   "metadata": {},
   "source": [
    "# Import packages"
   ]
  },
  {
   "cell_type": "code",
   "execution_count": null,
   "metadata": {},
   "outputs": [],
   "source": [
    "import numpy as np\n",
    "import imageio\n",
    "import matplotlib.pyplot as plt"
   ]
  },
  {
   "cell_type": "markdown",
   "metadata": {},
   "source": [
    "# Load an image"
   ]
  },
  {
   "cell_type": "code",
   "execution_count": null,
   "metadata": {},
   "outputs": [],
   "source": [
    "#fName = \"tissue.png\"\n",
    "#fName = \"micro.png\"\n",
    "fName = \"flower.jpg\"\n",
    "\n",
    "I = imageio.imread(fName)\n",
    "print(type(I))\n",
    "print('size of image I:', I.shape)\n",
    "if len(I.shape) > 2:\n",
    "    print('This is a color image!')\n",
    "    img = I[:,:,0]\n",
    "else:\n",
    "    img = I\n",
    "print(img.dtype)\n",
    "print(img.shape)\n",
    "\n",
    "#plt.imshow(I, cmap='gray', vmin=0, vmax=255)\n",
    "plt.imshow(I, cmap='gray')"
   ]
  },
  {
   "cell_type": "markdown",
   "metadata": {},
   "source": [
    "# Compute and display histogram"
   ]
  },
  {
   "cell_type": "code",
   "execution_count": null,
   "metadata": {},
   "outputs": [],
   "source": [
    "hist, bins = np.histogram(img, bins=256, range=[0,256])\n",
    "#\n",
    "# 1. Write your own code to compute the histogram of an image \n",
    "# to replace the above line of statement\n",
    "#\n",
    "# Initialize\n",
    "#\n",
    "# hist = np.zeros(256,)\n",
    "# ??????\n",
    "#\n",
    "# bins = np.arange(257)\n",
    "#\n",
    "\n",
    "cdf = np.cumsum(hist)\n",
    "print('cdf size:', len(cdf))\n",
    "\n",
    "height, width = img.shape\n",
    "norm_cdf = cdf / (height * width)\n",
    "\n",
    "#width = (bins[1] - bins[0])\n",
    "center = (bins[:-1] + bins[1:]) / 2\n",
    "plt.bar(center, hist / hist.max(), align='center')\n",
    "#plt.bar(center, hist, align='center')\n",
    "plt.plot(norm_cdf, color='r')\n",
    "plt.show()"
   ]
  },
  {
   "cell_type": "markdown",
   "metadata": {},
   "source": [
    "# Compute new mapping values by equalizing the histogram"
   ]
  },
  {
   "cell_type": "code",
   "execution_count": null,
   "metadata": {},
   "outputs": [],
   "source": [
    "#cdf_min = cdf / 4 * 3\n",
    "L = 256\n",
    "mapping = (norm_cdf * (L - 1)).astype(\"uint8\")\n",
    "\n",
    "# print the mapping\n",
    "for i in range(L):\n",
    "    print('Original pixel value', i, '--> new value', mapping[i])"
   ]
  },
  {
   "cell_type": "markdown",
   "metadata": {},
   "source": [
    "# Map the pixel values into the new values"
   ]
  },
  {
   "cell_type": "code",
   "execution_count": null,
   "metadata": {},
   "outputs": [],
   "source": [
    "# map the image\n",
    "img_eq = mapping[img]\n",
    "\n",
    "# Show the new image\n",
    "plt.imshow(img_eq, cmap='gray')\n",
    "\n",
    "# Save the new image into a file\n",
    "imageio.imwrite('flower_equalized.png', img_eq)"
   ]
  },
  {
   "cell_type": "markdown",
   "metadata": {},
   "source": [
    "# Show the equalized histogram and Cumulative Distribution Function (CDF)"
   ]
  },
  {
   "cell_type": "code",
   "execution_count": null,
   "metadata": {},
   "outputs": [],
   "source": [
    "hist_eq, bins = np.histogram(img_eq, bins=256, range=[0,256])\n",
    "\n",
    "cdf_eq = np.cumsum(hist_eq)\n",
    "norm_cdf_eq = cdf_eq / (height * width)\n",
    "\n",
    "center = (bins[:-1] + bins[1:]) / 2\n",
    "plt.bar(center, hist_eq / hist_eq.max(), align='center')\n",
    "plt.plot(norm_cdf_eq, color='r')\n",
    "plt.show()"
   ]
  }
 ],
 "metadata": {
  "kernelspec": {
   "display_name": "Python 3 (ipykernel)",
   "language": "python",
   "name": "python3"
  },
  "language_info": {
   "codemirror_mode": {
    "name": "ipython",
    "version": 3
   },
   "file_extension": ".py",
   "mimetype": "text/x-python",
   "name": "python",
   "nbconvert_exporter": "python",
   "pygments_lexer": "ipython3",
   "version": "3.7.4"
  }
 },
 "nbformat": 4,
 "nbformat_minor": 2
}
