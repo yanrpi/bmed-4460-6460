{
 "cells": [
  {
   "cell_type": "markdown",
   "id": "cc15a751",
   "metadata": {},
   "source": [
    "# Compute image histogram"
   ]
  },
  {
   "cell_type": "code",
   "execution_count": null,
   "id": "b06a706d",
   "metadata": {},
   "outputs": [],
   "source": [
    "import imageio\n",
    "import numpy as np\n",
    "import matplotlib.pyplot as plt"
   ]
  },
  {
   "cell_type": "code",
   "execution_count": null,
   "id": "136da76b",
   "metadata": {},
   "outputs": [],
   "source": [
    "fName = \"GFP_06-DAPI.tif\"\n",
    "\n",
    "img = imageio.imread(fName, format='tif')\n",
    "print(img.max(), img.min())"
   ]
  },
  {
   "cell_type": "code",
   "execution_count": null,
   "id": "241049fe",
   "metadata": {},
   "outputs": [],
   "source": [
    "'''now we calc grayscale histogram'''\n",
    "\n",
    "hist = np.zeros(256)\n",
    "# print(hist.shape)\n",
    "\n",
    "for y in range(img.shape[0]):\n",
    "    for x in range(img.shape[1]):\n",
    "        pixel_value = int(img[y, x])\n",
    "        hist[pixel_value] += 1"
   ]
  },
  {
   "cell_type": "code",
   "execution_count": null,
   "id": "51a8a969",
   "metadata": {},
   "outputs": [],
   "source": [
    "plt.plot(hist, color='#ef476f')\n",
    "plt.bar(np.arange(len(hist)), hist, color='#b7b7a4')"
   ]
  },
  {
   "cell_type": "markdown",
   "id": "e6e9b426",
   "metadata": {},
   "source": [
    "## _Exercise_: Please extend the code to allow intensity bins in different sizes."
   ]
  },
  {
   "cell_type": "code",
   "execution_count": null,
   "id": "777a9426",
   "metadata": {},
   "outputs": [],
   "source": []
  }
 ],
 "metadata": {
  "kernelspec": {
   "display_name": "Python 3 (ipykernel)",
   "language": "python",
   "name": "python3"
  },
  "language_info": {
   "codemirror_mode": {
    "name": "ipython",
    "version": 3
   },
   "file_extension": ".py",
   "mimetype": "text/x-python",
   "name": "python",
   "nbconvert_exporter": "python",
   "pygments_lexer": "ipython3",
   "version": "3.7.3"
  }
 },
 "nbformat": 4,
 "nbformat_minor": 5
}
