{
 "cells": [
  {
   "cell_type": "code",
   "execution_count": null,
   "id": "96d6a2ab",
   "metadata": {},
   "outputs": [],
   "source": [
    "import numpy as np\n",
    "import matplotlib.pyplot as plt"
   ]
  },
  {
   "cell_type": "code",
   "execution_count": null,
   "id": "d29047b1",
   "metadata": {},
   "outputs": [],
   "source": [
    "img = np.zeros((300, 300), dtype=np.uint8)\n",
    "\n",
    "p0 = 50, 150\n",
    "img[p0] = 255\n",
    "p1 = 150, 250\n",
    "img[p1] = 255\n",
    "p2 = 250, 150\n",
    "img[p2] = 255\n",
    "p3 = 150, 50\n",
    "img[p3] = 255\n",
    "\n",
    "plt.imshow(img, cmap='gray')\n",
    "plt.plot(p0[0], p0[1], 'w.')\n",
    "plt.plot(p1[0], p1[1], 'w.')\n",
    "plt.plot(p2[0], p2[1], 'w.')\n",
    "plt.plot(p3[0], p3[1], 'w.')"
   ]
  },
  {
   "cell_type": "markdown",
   "id": "b7be8553",
   "metadata": {},
   "source": [
    "# Go through every pixel of the image\n",
    "\n",
    "This isn't an efficient approach. If you have idea to implement in an efficient way, that will be great!\n",
    "*Hint:*  Use matrix/vector than pixel by pixel"
   ]
  },
  {
   "cell_type": "code",
   "execution_count": null,
   "id": "3e8bd90f",
   "metadata": {},
   "outputs": [],
   "source": [
    "# Initialize Hough space\n",
    "hough_space = np.zeros(img.shape, dtype=np.int32)\n",
    "height, width = img.shape\n",
    "\n",
    "# my guess of the radius\n",
    "radius = 100\n",
    "\n",
    "for w in range(width):\n",
    "    for h in range(height):\n",
    "        # check edge pixels\n",
    "        if img[w,h] > 0:            \n",
    "            # Go through every pixel of the Hough space\n",
    "            for theta in range(360):\n",
    "                x = int(radius * np.cos(theta) + w + 0.5)\n",
    "                y = int(radius * np.sin(theta) + h + 0.5)\n",
    "                if x >= 0 and x < width and y >= 0 and y < height:\n",
    "                    hough_space[x, y] += 1\n",
    "                        \n",
    "plt.imshow(np.log(hough_space + 1), cmap='gray')"
   ]
  }
 ],
 "metadata": {
  "kernelspec": {
   "display_name": "Python 3 (ipykernel)",
   "language": "python",
   "name": "python3"
  },
  "language_info": {
   "codemirror_mode": {
    "name": "ipython",
    "version": 3
   },
   "file_extension": ".py",
   "mimetype": "text/x-python",
   "name": "python",
   "nbconvert_exporter": "python",
   "pygments_lexer": "ipython3",
   "version": "3.7.3"
  }
 },
 "nbformat": 4,
 "nbformat_minor": 5
}
