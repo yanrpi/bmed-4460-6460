{
 "cells": [
  {
   "cell_type": "code",
   "execution_count": null,
   "metadata": {},
   "outputs": [],
   "source": [
    "'''\n",
    "by Dr. Pingkun Yan at BME @ RPI\n",
    "The code requires installing opencv\n",
    "'''\n",
    "\n",
    "import numpy as np\n",
    "import matplotlib.pyplot as plt\n",
    "\n",
    "import cv2 # to import opencv\n",
    "print(cv2.__version__)"
   ]
  },
  {
   "cell_type": "code",
   "execution_count": null,
   "metadata": {},
   "outputs": [],
   "source": [
    "# Load image and detect edges\n",
    "img = cv2.imread('GFP_06-DAPI.tif', 0)\n",
    "#print(img)\n",
    "\n",
    "edges = cv2.Canny(img, 30, 75)\n",
    "\n",
    "fig, ax = plt.subplots(1, 2)\n",
    "ax[0].imshow(img, cmap='gray')\n",
    "ax[1].imshow(edges, cmap='gray')"
   ]
  },
  {
   "cell_type": "code",
   "execution_count": null,
   "metadata": {},
   "outputs": [],
   "source": [
    "# Python: cv2.HoughCircles(image, method, dp, minDist\n",
    "#                          [, circles[, param1[, param2\n",
    "#                          [, minRadius[, maxRadius]]]]])\n",
    "circles = cv2.HoughCircles(edges, cv2.HOUGH_GRADIENT, 1, 20, \n",
    "                             param1=50, param2=20,\n",
    "                             minRadius=10, maxRadius=50)\n",
    "\n",
    "print(circles.shape)\n",
    "circles = np.uint16(np.around(circles))"
   ]
  },
  {
   "cell_type": "code",
   "execution_count": null,
   "metadata": {},
   "outputs": [],
   "source": [
    "cimg = cv2.cvtColor(img, cv2.COLOR_GRAY2RGB)\n",
    "\n",
    "for i in circles[0,:]:\n",
    "    # draw the outer circle\n",
    "    cv2.circle(cimg,(i[0],i[1]),i[2],(255,0,0),3) #RGB\n",
    "    # draw the center of the circle\n",
    "    cv2.circle(cimg,(i[0],i[1]),2,(0,255,0),5)\n",
    "\n",
    "cv2.imwrite('img_circles.png', cv2.cvtColor(cimg, cv2.COLOR_BGR2RGB))\n",
    "\n",
    "plt.imshow(cimg)"
   ]
  }
 ],
 "metadata": {
  "kernelspec": {
   "display_name": "Python 3 (ipykernel)",
   "language": "python",
   "name": "python3"
  },
  "language_info": {
   "codemirror_mode": {
    "name": "ipython",
    "version": 3
   },
   "file_extension": ".py",
   "mimetype": "text/x-python",
   "name": "python",
   "nbconvert_exporter": "python",
   "pygments_lexer": "ipython3",
   "version": "3.7.3"
  }
 },
 "nbformat": 4,
 "nbformat_minor": 2
}
