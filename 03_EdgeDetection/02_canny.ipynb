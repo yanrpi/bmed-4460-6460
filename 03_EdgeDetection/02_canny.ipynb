{
 "cells": [
  {
   "cell_type": "code",
   "execution_count": null,
   "metadata": {},
   "outputs": [],
   "source": [
    "import SimpleITK as sitk\n",
    "import numpy as np\n",
    "import matplotlib.pyplot as plt\n",
    "print(sitk.Version())"
   ]
  },
  {
   "cell_type": "code",
   "execution_count": null,
   "metadata": {},
   "outputs": [],
   "source": [
    "print(\"Lecture 07\")\n",
    "img_file_name = \"GFP_06-DAPI.tif\"\n",
    "print(\"... reading image from file: \" + img_file_name)"
   ]
  },
  {
   "cell_type": "code",
   "execution_count": null,
   "metadata": {},
   "outputs": [],
   "source": [
    "# Cast image to float32\n",
    "itkImage = sitk.ReadImage(img_file_name)\n",
    "itkImage = sitk.Cast(itkImage, sitk.sitkFloat32)"
   ]
  },
  {
   "cell_type": "code",
   "execution_count": null,
   "metadata": {},
   "outputs": [],
   "source": [
    "# Apply the Canny Edge Detector\n",
    "# https://simpleitk.org/doxygen/latest/html/classitk_1_1simple_1_1CannyEdgeDetectionImageFilter.html\n",
    "# Paramter 1: the input image\n",
    "# Parameter 2: the lower threshold (double)\n",
    "# Parameter 3: the upper threshold (double)\n",
    "# Parameter 4: the smoothing parameter as a vector (double, double)   \n",
    "\n",
    "img_ce = sitk.CannyEdgeDetection(itkImage, 1.5, 5.0, (7.0, 7.0)) \n",
    "#img_ce = sitk.CannyEdgeDetection(itkImage, lowerThreshold=0.0, upperThreshold=15.0, variance=(0.5, 0.5))\n",
    "\n",
    "plt.subplot(1, 2, 1)\n",
    "plt.imshow(sitk.GetArrayFromImage(itkImage), cmap='gray')\n",
    "plt.subplot(1, 2, 2)\n",
    "#plt.imshow(sitk.GetArrayFromImage(img_ce), cmap='gray')\n",
    "plt.imshow(sitk.GetArrayFromImage(img_ce), cmap='gray', vmin=0, vmax=0.2)\n",
    "plt.title('Canny Edge Detection')\n",
    "plt.show()\n",
    "\n",
    "img_arr = sitk.GetArrayFromImage(img_ce)\n",
    "print(img_arr.shape, img_arr.max(), img_arr.min())"
   ]
  },
  {
   "cell_type": "code",
   "execution_count": null,
   "metadata": {},
   "outputs": [],
   "source": [
    "''' \n",
    "Exercise code block\n",
    "'''\n",
    "\n",
    "itkImage = sitk.Cast(itkImage, sitk.sitkFloat32)\n",
    "\n",
    "# 1. Identify a good smoothing parameter and show the smoothed image\n",
    "smoothed_image = sitk.SmoothingRecursiveGaussian(itkImage, 3.0)\n",
    "\n",
    "# Binary Threshold: http://www.itk.org/SimpleITKDoxygen/html/classitk_1_1simple_1_1BinaryThresholdImageFilter.html\n",
    "# Paramter 1: the input image\n",
    "# Parameter 2: the lower threshold (default set to 0.0)\n",
    "# Parameter 3: the upper threshold (default set to 255.0)\n",
    "# Parameter 5: inside value    \n",
    "# Parameter 6: outside value\n",
    "# Note: Input Image Type is float and output is unsigned char (8 bits)\n",
    "\n",
    "# 2.1 Apply Otsu's method to automatically determine the threshold below\n",
    "# 2.2 Manually tune the threshold below and show the thresholding results\n",
    "threshold = 64\n",
    "img_Binary = sitk.BinaryThreshold(smoothed_image, 0, threshold, 0, 255)\n",
    "\n",
    "img_float32 = sitk.Cast(img_Binary, sitk.sitkFloat32)\n",
    "# 3. Tune the parameters in Canny edge detector and show the edge detection results\n",
    "img_ce = sitk.CannyEdgeDetection(img_float32)\n",
    "\n",
    "# 4. Tune the parameters in steps 1-3 to have all the cell boundaries shown in red\n",
    "arr_img = sitk.GetArrayFromImage(itkImage)\n",
    "arr_binary = sitk.GetArrayFromImage(img_Binary)\n",
    "arr_edge = sitk.GetArrayFromImage(img_ce)\n",
    "\n",
    "arr_red = sitk.GetArrayFromImage(itkImage)\n",
    "arr_red[arr_edge>0] = 255\n",
    "\n",
    "h, w = arr_img.shape\n",
    "arr_rgb = np.zeros((h,w,3), 'uint8')\n",
    "arr_rgb[..., 0] = arr_red\n",
    "arr_rgb[..., 1] = arr_img\n",
    "arr_rgb[..., 2] = arr_img\n",
    "\n",
    "plt.subplot(1, 3, 1)\n",
    "plt.imshow(sitk.GetArrayFromImage(itkImage), cmap='gray')\n",
    "plt.subplot(1, 3, 2)\n",
    "plt.imshow(arr_binary, cmap='gray')\n",
    "plt.subplot(1, 3, 3)\n",
    "plt.imshow(arr_rgb, cmap='gray')\n",
    "plt.show()"
   ]
  }
 ],
 "metadata": {
  "kernelspec": {
   "display_name": "Python 3 (ipykernel)",
   "language": "python",
   "name": "python3"
  },
  "language_info": {
   "codemirror_mode": {
    "name": "ipython",
    "version": 3
   },
   "file_extension": ".py",
   "mimetype": "text/x-python",
   "name": "python",
   "nbconvert_exporter": "python",
   "pygments_lexer": "ipython3",
   "version": "3.7.4"
  }
 },
 "nbformat": 4,
 "nbformat_minor": 2
}
