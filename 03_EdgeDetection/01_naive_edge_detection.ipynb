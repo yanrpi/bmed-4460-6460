{
 "cells": [
  {
   "cell_type": "code",
   "execution_count": null,
   "id": "a338fdab",
   "metadata": {},
   "outputs": [],
   "source": [
    "import imageio as io\n",
    "import numpy as np\n",
    "import matplotlib.pyplot as plt"
   ]
  },
  {
   "cell_type": "code",
   "execution_count": null,
   "id": "efcb4ca2",
   "metadata": {},
   "outputs": [],
   "source": [
    "img_file_name = \"GFP_06-DAPI.tif\"\n",
    "print(\"... reading image from file: \" + img_file_name)"
   ]
  },
  {
   "cell_type": "code",
   "execution_count": null,
   "id": "951be5f5",
   "metadata": {},
   "outputs": [],
   "source": [
    "\n",
    "def calculate_horizontal_gradient(image):\n",
    "    # Calculate the horizontal gradient using finite differences\n",
    "    gradient_x = np.zeros_like(image)\n",
    "    gradient_x[:, :-1] = image[:, 1:] - image[:, :-1]\n",
    "\n",
    "    return gradient_x\n",
    "\n",
    "def calculate_vertical_gradient(image):\n",
    "    # Calculate the vertical gradient using finite differences\n",
    "    gradient_y = np.zeros_like(image)\n",
    "    gradient_y[:-1, :] = image[1:, :] - image[:-1, :]\n",
    "\n",
    "    return gradient_y\n",
    "\n",
    "def display_image(image_array, title):\n",
    "    plt.imshow(image_array, cmap='gray')\n",
    "    plt.title(title)\n",
    "    plt.axis('off')\n",
    "    plt.show()\n"
   ]
  },
  {
   "cell_type": "code",
   "execution_count": null,
   "id": "b621cf0f",
   "metadata": {},
   "outputs": [],
   "source": [
    "def gaussian_1D(sigma, support_size):\n",
    "\n",
    "    half_size = support_size // 2\n",
    "    gaussian = np.zeros(support_size)\n",
    "\n",
    "    for i in range(support_size):\n",
    "        x = i - half_size\n",
    "        #gf[i] = 1.0 / (np.sqrt(2 * np.pi) * sigma) * np.exp(-(x**2) / (2 * sigma**2))\n",
    "        gaussian[i] = np.exp(-(x**2) / (2 * sigma**2))\n",
    "        \n",
    "    # Normalize the filter\n",
    "    gaussian = gaussian / gaussian.sum()\n",
    "\n",
    "    return gaussian"
   ]
  },
  {
   "cell_type": "code",
   "execution_count": null,
   "id": "58ed25f6",
   "metadata": {},
   "outputs": [],
   "source": [
    "original_image = io.imread(img_file_name)\n",
    "\n",
    "smoothing = False\n",
    "\n",
    "if smoothing:\n",
    "    gf = gaussian_1D(1.0, 3)\n",
    "    print('Gaussian filter:', gf)\n",
    "    height, width = original_image.shape\n",
    "    smoothed_image = np.zeros(original_image.shape)\n",
    "    \n",
    "    for h in range(height):\n",
    "        smoothed_image[h,:] = np.convolve(gf, original_image[h,:], mode='same')\n",
    "    for w in range(width):\n",
    "        smoothed_image[:,w] = np.convolve(gf, smoothed_image[:,w], mode='same')\n",
    "    horizontal_gradient = calculate_horizontal_gradient(smoothed_image)\n",
    "    vertical_gradient = calculate_vertical_gradient(smoothed_image)\n",
    "else:\n",
    "    horizontal_gradient = calculate_horizontal_gradient(original_image)\n",
    "    vertical_gradient = calculate_vertical_gradient(original_image)\n",
    "\n",
    "io.imwrite('horizontal_gradient.png', horizontal_gradient)\n",
    "io.imwrite('vertical_gradient.png', vertical_gradient)\n",
    "\n",
    "\n",
    "# Display the original image\n",
    "display_image(original_image, \"Original Image\")\n",
    "\n",
    "# Display the horizontal gradient\n",
    "display_image(horizontal_gradient, \"Horizontal Gradient\")\n",
    "\n",
    "display_image(vertical_gradient, \"Vertical Gradient\")"
   ]
  },
  {
   "cell_type": "code",
   "execution_count": null,
   "id": "1c053d2c",
   "metadata": {
    "scrolled": true
   },
   "outputs": [],
   "source": [
    "gradient_magnitude = np.sqrt(horizontal_gradient**2 + vertical_gradient**2)\n",
    "\n",
    "io.imwrite('gradient_magnitude.png', gradient_magnitude)\n",
    "\n",
    "display_image(gradient_magnitude, \"Gradient Magnitude\")"
   ]
  },
  {
   "cell_type": "code",
   "execution_count": null,
   "id": "6ced2650",
   "metadata": {},
   "outputs": [],
   "source": [
    "print(gradient_magnitude.max())\n",
    "idx = gradient_magnitude < 7.0\n",
    "gradient_magnitude[idx] = 0\n",
    "display_image(gradient_magnitude, \"Thresholded Gradient Magnitude\")\n",
    "io.imwrite('threshold_gradient_magnitude.png', gradient_magnitude)"
   ]
  }
 ],
 "metadata": {
  "kernelspec": {
   "display_name": "Python 3 (ipykernel)",
   "language": "python",
   "name": "python3"
  },
  "language_info": {
   "codemirror_mode": {
    "name": "ipython",
    "version": 3
   },
   "file_extension": ".py",
   "mimetype": "text/x-python",
   "name": "python",
   "nbconvert_exporter": "python",
   "pygments_lexer": "ipython3",
   "version": "3.7.3"
  }
 },
 "nbformat": 4,
 "nbformat_minor": 5
}
