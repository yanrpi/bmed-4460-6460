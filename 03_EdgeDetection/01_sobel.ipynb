{
 "cells": [
  {
   "cell_type": "code",
   "execution_count": null,
   "metadata": {
    "scrolled": true
   },
   "outputs": [],
   "source": [
    "import SimpleITK as sitk\n",
    "print(sitk.Version())\n",
    "\n",
    "import matplotlib.pyplot as plt\n",
    "import numpy as np"
   ]
  },
  {
   "cell_type": "code",
   "execution_count": null,
   "metadata": {
    "scrolled": true
   },
   "outputs": [],
   "source": [
    "print(\"Lecture 06\")\n",
    "\n",
    "img_file_name = \"GFP_06-DAPI.tif\"\n",
    "print(\"... reading image from file: \" + img_file_name)"
   ]
  },
  {
   "cell_type": "code",
   "execution_count": null,
   "metadata": {
    "scrolled": true
   },
   "outputs": [],
   "source": [
    "'''Convert image to array and use matplotlib '''\n",
    "itkImage = sitk.ReadImage(img_file_name)\n",
    "print('Image has been loaded.')\n",
    "print('*' * 40)\n",
    "print(itkImage)\n",
    "numpyArray = sitk.GetArrayFromImage(itkImage)\n",
    "print('Array size:', numpyArray.shape)\n",
    "plt.imshow(numpyArray, cmap='gray')\n",
    "plt.show()"
   ]
  },
  {
   "cell_type": "code",
   "execution_count": null,
   "metadata": {
    "scrolled": true
   },
   "outputs": [],
   "source": [
    "# Directly computing gradient image\n",
    "\n",
    "itkImage = sitk.Cast(itkImage, sitk.sitkFloat32)\n",
    "#grad_filter = sitk.GradientImageFilter()\n",
    "#grad = grad_filter.Execute(itkImage)\n",
    "grad = sitk.Gradient(itkImage)\n",
    "arr = sitk.GetArrayFromImage(grad)\n",
    "print('arr size:', arr.shape)\n",
    "# Compute the magnitude of the gradient image\n",
    "grad_mag = np.sqrt(np.sum(arr**2, axis=2))\n",
    "\n",
    "plt.subplot(1,2,1)\n",
    "plt.imshow(numpyArray, cmap='gray')\n",
    "plt.subplot(1,2,2)\n",
    "plt.imshow(grad_mag, cmap='gray')\n",
    "plt.title('Gradient Magnitude Image')\n",
    "plt.show()"
   ]
  },
  {
   "cell_type": "code",
   "execution_count": null,
   "metadata": {
    "scrolled": true
   },
   "outputs": [],
   "source": [
    "# Cast image to float32 !!!\n",
    "itkImage = sitk.ReadImage(img_file_name)\n",
    "itkImage = sitk.Cast(itkImage, sitk.sitkFloat32)\n",
    "smoothed_image = sitk.SmoothingRecursiveGaussian(itkImage, 4.0)\n",
    "#fNameOut =  'SmoothingRecursiveGaussian.tif'\n",
    "#sitk.WriteImage(sitk.Cast(smooth, sitk.sitkUInt8), fNameOut)\n",
    "\n",
    "plt.subplot(1,2,1)\n",
    "plt.imshow(numpyArray, cmap='gray')\n",
    "plt.subplot(1,2,2)\n",
    "plt.imshow(sitk.GetArrayFromImage(smoothed_image), cmap='gray')\n",
    "plt.title('Smoothed Image')\n",
    "plt.show()"
   ]
  },
  {
   "cell_type": "code",
   "execution_count": null,
   "metadata": {
    "scrolled": false
   },
   "outputs": [],
   "source": [
    "# Compute gradient after smoothing\n",
    "#grad = grad_filter.Execute(smoothed_image)\n",
    "grad = sitk.Gradient(smoothed_image)\n",
    "arr = sitk.GetArrayFromImage(grad)\n",
    "smoothed_grad_mag = np.sqrt(np.sum(arr**2, axis=2))\n",
    "\n",
    "plt.subplot(2,2,1)\n",
    "plt.imshow(numpyArray, cmap='gray')\n",
    "plt.subplot(2,2,2)\n",
    "plt.imshow(grad_mag, cmap='gray')\n",
    "plt.title('Gradient wo smooth')\n",
    "plt.subplot(2,2,3)\n",
    "plt.imshow(smoothed_grad_mag, cmap='gray')\n",
    "plt.title('Smoothed Gradient')\n",
    "\n",
    "plt.tight_layout()\n",
    "plt.show()"
   ]
  },
  {
   "cell_type": "code",
   "execution_count": null,
   "metadata": {
    "scrolled": true
   },
   "outputs": [],
   "source": [
    "sobelImage = sitk.SobelEdgeDetection(itkImage)\n",
    "#fNameOut =  'SobelEdgeDetection.tif'\n",
    "#sitk.WriteImage(sitk.Cast(sobelImage, sitk.sitkUInt8), fNameOut)   \n",
    "plt.subplot(1,2,1)\n",
    "plt.imshow(numpyArray, cmap='gray')\n",
    "plt.subplot(1,2,2)\n",
    "plt.imshow(  sitk.GetArrayFromImage(sobelImage), cmap='gray'  )\n",
    "plt.title('Sobel Edge Detection')\n",
    "plt.show()"
   ]
  },
  {
   "cell_type": "code",
   "execution_count": null,
   "metadata": {
    "scrolled": true
   },
   "outputs": [],
   "source": [
    "sobelImageSmooth = sitk.SobelEdgeDetection(smoothed_image)\n",
    "plt.subplot(1,2,1)\n",
    "plt.imshow(numpyArray, cmap='gray')\n",
    "plt.subplot(1,2,2)\n",
    "plt.imshow(  sitk.GetArrayFromImage(sobelImageSmooth), cmap='gray'  )\n",
    "plt.title('Edge Detection over Smoothed Image')\n",
    "plt.show()"
   ]
  }
 ],
 "metadata": {
  "kernelspec": {
   "display_name": "Python 3 (ipykernel)",
   "language": "python",
   "name": "python3"
  },
  "language_info": {
   "codemirror_mode": {
    "name": "ipython",
    "version": 3
   },
   "file_extension": ".py",
   "mimetype": "text/x-python",
   "name": "python",
   "nbconvert_exporter": "python",
   "pygments_lexer": "ipython3",
   "version": "3.7.4"
  }
 },
 "nbformat": 4,
 "nbformat_minor": 2
}
