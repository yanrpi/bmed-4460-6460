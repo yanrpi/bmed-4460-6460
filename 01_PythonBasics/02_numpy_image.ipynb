{
 "cells": [
  {
   "cell_type": "code",
   "execution_count": null,
   "id": "e0b18b2d",
   "metadata": {},
   "outputs": [],
   "source": [
    "# Import numpy and matplotlib\n",
    "\n",
    "import numpy as np\n",
    "import matplotlib.pyplot as plt"
   ]
  },
  {
   "cell_type": "code",
   "execution_count": null,
   "id": "902244e6",
   "metadata": {},
   "outputs": [],
   "source": [
    "fig, ax = plt.subplots()\n",
    "\n",
    "# put the point coordinates into numpy arrays\n",
    "x = np.array([1,2,3,4,5])\n",
    "y = np.array([1,3,2,4,2])\n",
    "\n",
    "# plot line segments\n",
    "ax.plot(x, y) \n",
    "# plot data points\n",
    "ax.plot(x, y, 'o')\n",
    "# plot interpolated curve\n",
    "plt.show()"
   ]
  },
  {
   "cell_type": "code",
   "execution_count": null,
   "id": "5bf84738",
   "metadata": {},
   "outputs": [],
   "source": [
    "# Create an empty (black) grayscale image\n",
    "\n",
    "img = np.zeros((256, 256), dtype=np.uint8)\n",
    "plt.imshow(img, cmap='gray')\n",
    "#plt.axis('off')"
   ]
  },
  {
   "cell_type": "code",
   "execution_count": null,
   "id": "36bb5b79",
   "metadata": {},
   "outputs": [],
   "source": [
    "# Add a bright block to the image\n",
    "\n",
    "img[100:180, 200:240] = 255\n",
    "plt.imshow(img, cmap='gray')"
   ]
  },
  {
   "cell_type": "code",
   "execution_count": null,
   "id": "49148591",
   "metadata": {},
   "outputs": [],
   "source": [
    "# What is the maximal pixel value?\n",
    "\n",
    "img.max()"
   ]
  },
  {
   "cell_type": "code",
   "execution_count": null,
   "id": "32f77f19",
   "metadata": {},
   "outputs": [],
   "source": [
    "# Create an empty color image\n",
    "\n",
    "img_color = np.zeros((256, 256, 3), dtype=np.uint8)\n",
    "plt.imshow(img_color)"
   ]
  },
  {
   "cell_type": "code",
   "execution_count": null,
   "id": "ca481fd7",
   "metadata": {},
   "outputs": [],
   "source": [
    "# Add a bright block to the Red channel of the image\n",
    "\n",
    "img_color[100:200, 50:250, 0] = 255\n",
    "plt.imshow(img_color)"
   ]
  },
  {
   "cell_type": "code",
   "execution_count": null,
   "id": "6a719c6b",
   "metadata": {},
   "outputs": [],
   "source": [
    "# Add a bright block to the Green channel of the image\n",
    "\n",
    "img_color[50:150, 10:150, 1] = 255\n",
    "plt.imshow(img_color)"
   ]
  },
  {
   "cell_type": "code",
   "execution_count": null,
   "id": "42100c80",
   "metadata": {},
   "outputs": [],
   "source": [
    "# Add a bright block to the Blue channel of the image\n",
    "\n",
    "img_color[80:230, 40:180, 2] = 255\n",
    "plt.imshow(img_color)"
   ]
  },
  {
   "cell_type": "code",
   "execution_count": null,
   "id": "520fc44c",
   "metadata": {},
   "outputs": [],
   "source": [
    "# Assign values to the three color channels simultaneously\n",
    "\n",
    "img_color[10:15, 10:15, :] = 128, 128, 256\n",
    "plt.imshow(img_color)"
   ]
  },
  {
   "cell_type": "code",
   "execution_count": null,
   "id": "87806d7f",
   "metadata": {},
   "outputs": [],
   "source": []
  }
 ],
 "metadata": {
  "kernelspec": {
   "display_name": "Python 3 (ipykernel)",
   "language": "python",
   "name": "python3"
  },
  "language_info": {
   "codemirror_mode": {
    "name": "ipython",
    "version": 3
   },
   "file_extension": ".py",
   "mimetype": "text/x-python",
   "name": "python",
   "nbconvert_exporter": "python",
   "pygments_lexer": "ipython3",
   "version": "3.7.3"
  }
 },
 "nbformat": 4,
 "nbformat_minor": 5
}
