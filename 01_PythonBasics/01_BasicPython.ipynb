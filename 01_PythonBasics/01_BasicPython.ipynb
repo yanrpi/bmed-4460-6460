{
 "cells": [
  {
   "cell_type": "code",
   "execution_count": null,
   "metadata": {},
   "outputs": [],
   "source": [
    "# # Python Programming Introduction\n",
    "# ## Created for course 4460/6460 - Biological Image Analysis\n",
    "# \n",
    "# @author: Pingkun Yan\n",
    "\n",
    "# # Strings\n",
    "# \n",
    "# Introduction to Python strings\n"
   ]
  },
  {
   "cell_type": "code",
   "execution_count": null,
   "metadata": {},
   "outputs": [],
   "source": [
    "print(\"Good afternoon\")\n",
    "\n",
    "'''Empty String '''\n",
    "myString = \"\"\n",
    "\n",
    "'''Initialize String '''\n",
    "myString = \"Hello Python\"  "
   ]
  },
  {
   "cell_type": "code",
   "execution_count": null,
   "metadata": {},
   "outputs": [],
   "source": [
    "''' Return a copy of the string\n",
    "    with only its first character\n",
    "    capitalized. '''\n",
    "print(myString.capitalize())  \n",
    "\n",
    "'''Return the lowest index in\n",
    "  where substring sub is found,'''       \n",
    "idx = myString.find(\"Python\")   \n",
    "print(\"idx: \", idx)                                  #6\n",
    "\n",
    "'''Print sub-string '''\n",
    "print(myString[idx:])                                #Python\n",
    "\n",
    "'''Replace a sub-string '''\n",
    "myStringNew = myString.replace(\"Python\", \"World\")\n",
    "print(myStringNew)                                   #\"Hello World\"\n",
    "'''Concatenate strings '''\n",
    "print(myString + ',' + myStringNew)\n"
   ]
  },
  {
   "cell_type": "code",
   "execution_count": null,
   "metadata": {},
   "outputs": [],
   "source": [
    "# # Introduction to tuples\n",
    "# - tuple\n",
    "# - list\n",
    "# - dict\n",
    "\n",
    "#\n",
    "\n",
    "print(\"Tuples\")\n",
    "\n",
    "'''Initialize a tuple '''\n",
    "myTuple = (\"first\", \"second\")   \n",
    "print(myTuple)                   # ('first', 'second')\n",
    "\n",
    "'''parentheses are optional '''\n",
    "myTuple = \"first\", \"second\"     \n",
    "print(myTuple)                   # ('first', 'second'\n",
    "\n",
    "'''Unpack elements '''\n",
    "a,b = myTuple\n",
    "print(\"a: \", a, \" b: \", b)       #a:  first  b:  second\n",
    "\n",
    "myTuple.count(\"first\")          #1\n",
    "\n",
    "'''length'''\n",
    "len(myTuple)                    #2\n",
    "\n",
    "'''Get the first element '''\n",
    "print(myTuple[0])                #\"first\""
   ]
  },
  {
   "cell_type": "code",
   "execution_count": null,
   "metadata": {},
   "outputs": [],
   "source": [
    "'''Define a list  '''\n",
    "print(\"LISTS:\")\n",
    "\n",
    "'''Empty list '''\n",
    "xs = []\n",
    "print(len(xs))   # 0\n",
    "\n",
    "'''Creates list '''\n",
    "xs = [3, 1, 2]\n",
    "\n",
    "'''Finds and counts values '''\n",
    "xs.count(1)      #1\n",
    "xs.count(0)      #0\n",
    "\n",
    "'''Add element trhee at the end of the list '''\n",
    "xs.append(3)\n",
    "print(xs)         #[3, 1, 2, 3]\n",
    "xs.count(3)       #2\n",
    "xs.remove(3)\n",
    "print(xs)         #[1, 2, 3]\n",
    "\n",
    "print(xs, xs[2])  # Prints \"[1, 2, 3] 3\"\n",
    "print(xs[-1])     # Negative indices count from the end of the list; prints \"3\"\n",
    "xs[2] = 'foo'     # Lists can contain elements of different types\n",
    "print(xs)         # Prints \"[1, 2, 'foo']\"\n",
    "xs.append('bar')  # Add a new element to the end of the list\n",
    "print(xs)         # Prints \n",
    "x = xs.pop()      # Remove and return the last element of the list\n",
    "print(x, xs)      # Prints \"bar [1, 2, 'foo']\""
   ]
  },
  {
   "cell_type": "code",
   "execution_count": null,
   "metadata": {},
   "outputs": [],
   "source": [
    "print(\"Slicing Examplies: \")\n",
    "\n",
    "nums = list(range(5))  # range is a built-in function that creates a list of integers\n",
    "print(nums)            # Prints \"[0, 1, 2, 3, 4]\"\n",
    "print(nums[2:4])       # Get a slice from index 2 to 4 (exclusive); prints \"[2, 3]\"\n",
    "print(nums[2:])        # Get a slice from index 2 to the end; prints \"[2, 3, 4]\"\n",
    "print(nums[:2])        # Get a slice from the start to index 2 (exclusive); prints \"[0, 1]\"\n",
    "print(nums[:])         # Get a slice of the whole list; prints [\"0, 1, 2, 3, 4]\"\n",
    "print(nums[:-1])       # Slice indices can be negative; prints [\"0, 1, 2, 3]\"\n",
    "nums[2:4] = [8,9]      # Assign a new sublist to a slice\n",
    "print(nums)            # Prints \"[0, 1, 8, 8, 4]\"\n"
   ]
  },
  {
   "cell_type": "code",
   "execution_count": null,
   "metadata": {},
   "outputs": [],
   "source": [
    "'''Dictionaries '''\n",
    "\n",
    "'''Empty Dictionary '''\n",
    "myDictionary = {}  \n",
    "\n",
    "'''Initialize Dictionary'''\n",
    "myDictionary = {\"One\":1, \"Two\":2, \"Three\":3  }  \n",
    " \n",
    "'''Get the keys '''\n",
    "print(myDictionary.keys())                   #['Three', 'Two', 'One']\n",
    "\n",
    "'''Get full content'''\n",
    "print(myDictionary.items())                  #[('Three', 3), ('Two', 2), ('One', 1)]\n",
    "\n",
    "'''Check if tuple is in dictionary'''\n",
    "print(('Three', 3) in myDictionary.items())  #True\n",
    "\n",
    "\"\"\"Get Element with key One \"\"\"\n",
    "print(myDictionary[\"One\"])                   #1\n",
    "\n",
    "\"\"\"Get Element with key One \"\"\"\n",
    "print(myDictionary[\"One\"]  + myDictionary[\"Two\"])  #3\n"
   ]
  },
  {
   "cell_type": "code",
   "execution_count": null,
   "metadata": {},
   "outputs": [],
   "source": [
    "\"\"\"Add a tuple \"\"\"\n",
    "myDictionary[\"Four\"] = (4,\"Second Element\")\n",
    "print(myDictionary[\"Four\"])  # (4,\"Second Element\")\n",
    "\n",
    "'''Delete the element 1 '''\n",
    "del(myDictionary[\"One\"]) \n",
    "\n",
    "print(\"One\" in myDictionary) # False\n",
    "\n",
    "'''Print and sort the dictionary ''' \n",
    "print(myDictionary)          #{'Four': (4, 'Second Element'), 'Three': 3, 'Two': 2}\n",
    "\n",
    "print(sorted(myDictionary))  # ['Four', 'Three', 'Two']\n",
    "\n",
    "'''Get the length '''\n",
    "print(len(myDictionary))  #3\n"
   ]
  },
  {
   "cell_type": "code",
   "execution_count": null,
   "metadata": {},
   "outputs": [],
   "source": [
    "'''For loops use iterators!'''\n",
    "\n",
    "'''Iterate over keys of the dictionary'''\n",
    "for key in myDictionary.keys():\n",
    "    print(\"Key is: \", key)\n",
    "    print(\"myDictionary[key]: \", myDictionary[key])\n"
   ]
  },
  {
   "cell_type": "code",
   "execution_count": null,
   "metadata": {},
   "outputs": [],
   "source": []
  }
 ],
 "metadata": {
  "kernelspec": {
   "display_name": "Python 3 (ipykernel)",
   "language": "python",
   "name": "python3"
  },
  "language_info": {
   "codemirror_mode": {
    "name": "ipython",
    "version": 3
   },
   "file_extension": ".py",
   "mimetype": "text/x-python",
   "name": "python",
   "nbconvert_exporter": "python",
   "pygments_lexer": "ipython3",
   "version": "3.7.3"
  }
 },
 "nbformat": 4,
 "nbformat_minor": 2
}
