{
 "cells": [
  {
   "cell_type": "code",
   "execution_count": null,
   "id": "b51d27ca",
   "metadata": {},
   "outputs": [],
   "source": [
    "import numpy as np\n",
    "import matplotlib.pyplot as plt\n",
    "import imageio"
   ]
  },
  {
   "cell_type": "markdown",
   "id": "b024b30c",
   "metadata": {},
   "source": [
    "# Part I: Image I/O"
   ]
  },
  {
   "cell_type": "code",
   "execution_count": null,
   "id": "64007a3b",
   "metadata": {},
   "outputs": [],
   "source": [
    "# Read an image from file\n",
    "\n",
    "img_filename = \"GFP_06-DAPI.tif\"\n",
    "\n",
    "img = imageio.imread(img_filename, format='tif')\n",
    "\n",
    "plt.imshow(img, cmap='gray')"
   ]
  },
  {
   "cell_type": "code",
   "execution_count": null,
   "id": "ff0f294f",
   "metadata": {},
   "outputs": [],
   "source": [
    "imageio.imwrite('temp.jpg', img)\n",
    "print('Write image into \"temp.jpg\"')"
   ]
  },
  {
   "cell_type": "markdown",
   "id": "28efa20b",
   "metadata": {},
   "source": [
    "# Part II: Intensity operations\n",
    "\n",
    "## 1. Modify image intensities"
   ]
  },
  {
   "cell_type": "code",
   "execution_count": null,
   "id": "6ebe2b0c",
   "metadata": {},
   "outputs": [],
   "source": [
    "print(img.dtype)\n",
    "img = img / 2\n",
    "print(img.dtype)\n",
    "\n",
    "fig, ax = plt.subplots(1,2)\n",
    "ax[0].imshow(img, cmap='gray')\n",
    "\n",
    "img[0,0] = 255\n",
    "ax[1].imshow(img, cmap='gray')\n"
   ]
  },
  {
   "cell_type": "code",
   "execution_count": null,
   "id": "c5c2859f",
   "metadata": {
    "scrolled": true
   },
   "outputs": [],
   "source": [
    "img[300:400, 400:500] += 50\n",
    "plt.imshow(img, cmap='gray')"
   ]
  },
  {
   "cell_type": "code",
   "execution_count": null,
   "id": "990ee580",
   "metadata": {},
   "outputs": [],
   "source": [
    "# Write the image to a file\n",
    "\n",
    "imageio.imwrite('result.png', img)"
   ]
  },
  {
   "cell_type": "code",
   "execution_count": null,
   "id": "cca8c618",
   "metadata": {},
   "outputs": [],
   "source": [
    "# Normalize image intensity\n",
    "intensity_difference = img.max() - img.min()\n",
    "img = (img - img.min()) / intensity_difference * 255\n",
    "\n",
    "# Convert and then save --> no warning message\n",
    "img = img.astype(np.uint8)\n",
    "\n",
    "imageio.imwrite('result.png', img)"
   ]
  },
  {
   "cell_type": "markdown",
   "id": "947fdde2",
   "metadata": {},
   "source": [
    "# Part II: Intensity operations\n",
    "\n",
    "## 2. Draw objects on images"
   ]
  },
  {
   "cell_type": "code",
   "execution_count": null,
   "id": "8e09bd06",
   "metadata": {},
   "outputs": [],
   "source": [
    "# Draw on images\n",
    "\n",
    "# Create an empty (black) grayscale image\n",
    "\n",
    "img = np.zeros((256, 256), dtype=np.uint8)\n",
    "plt.imshow(img, cmap='gray')"
   ]
  },
  {
   "cell_type": "code",
   "execution_count": null,
   "id": "ee2e676c",
   "metadata": {},
   "outputs": [],
   "source": [
    "# Draw a horizontal line: y = 50\n",
    "\n",
    "img[50, :] = 255\n",
    "plt.imshow(img, cmap='gray')"
   ]
  },
  {
   "cell_type": "code",
   "execution_count": null,
   "id": "685ccde5",
   "metadata": {},
   "outputs": [],
   "source": [
    "# Draw a vertical line: x = 100\n",
    "\n",
    "img[:, 100] = 255\n",
    "plt.imshow(img, cmap='gray')"
   ]
  },
  {
   "cell_type": "code",
   "execution_count": null,
   "id": "15a0bdd3",
   "metadata": {},
   "outputs": [],
   "source": [
    "# Draw a diagonal line: y = x\n",
    "\n",
    "for x in range(256):\n",
    "    img[x, x] = 255\n",
    "    \n",
    "plt.imshow(img, cmap='gray')"
   ]
  },
  {
   "cell_type": "code",
   "execution_count": null,
   "id": "438039ef",
   "metadata": {},
   "outputs": [],
   "source": [
    "# Draw a circle on an image\n",
    "\n",
    "# Option 1:\n",
    "# (x - cx)^2 + (y - cy)^2 = r^2 --> not good for implementation\n",
    "\n",
    "# Option 2: Using an alternative form\n",
    "# x = r cos(\\alpha) + cx\n",
    "# y = r sin(\\alpha) + cy\n",
    "\n",
    "radius = 80.0\n",
    "cx = cy = 128\n",
    "\n",
    "#for degree in np.arange(0, 360.0, 0.1):\n",
    "for degree in range(360):\n",
    "    radian = degree / 180.0 * np.pi\n",
    "    x = int(radius * np.cos(radian) + 0.5) + cx\n",
    "    y = int(radius * np.sin(radian) + 0.5) + cy\n",
    "    img[y, x] = 255\n",
    "\n",
    "plt.imshow(img, cmap='gray')\n",
    "\n",
    "# Can you accomplish the following challenges?\n",
    "# 1. Draw a circle at a different location in different size?\n",
    "# 2. Draw a thicker circle?\n",
    "# 3. Draw a colorful circle?"
   ]
  },
  {
   "cell_type": "markdown",
   "id": "bbf808ad",
   "metadata": {},
   "source": [
    "# Part III: Geometric operations \n",
    "\n",
    "## 1. Scaling/resizing"
   ]
  },
  {
   "cell_type": "code",
   "execution_count": null,
   "id": "ad22e329",
   "metadata": {},
   "outputs": [],
   "source": [
    "img_filename = \"GFP_06-DAPI.tif\"\n",
    "\n",
    "img = imageio.imread(img_filename, format='tif')\n",
    "\n",
    "fig, ax = plt.subplots(1, 2)\n",
    "ax[0].imshow(img, cmap='gray')\n",
    "\n",
    "# Set parameters\n",
    "scale_x = 1.5\n",
    "scale_y = 0.8\n",
    "\n",
    "# compute size of the new image\n",
    "rows0, cols0 = img.shape\n",
    "print(rows0, cols0)\n",
    "rows1 = int(rows0 * scale_y + 0.5)\n",
    "cols1 = int(cols0 * scale_x + 0.5)\n",
    "\n",
    "img_new = np.zeros((rows1, cols1))\n",
    "\n",
    "for yn in range(rows1):\n",
    "    y0 = int(yn / scale_y + 0.5)\n",
    "    \n",
    "    for xn in range(cols1):\n",
    "        x0 = int(xn / scale_x + 0.5)\n",
    "        img_new[yn, xn] = img[y0, x0]\n",
    "        \n",
    "ax[1].imshow(img_new, cmap='gray')\n"
   ]
  },
  {
   "cell_type": "markdown",
   "id": "c8ba7f5f",
   "metadata": {},
   "source": [
    "# Part III: Geometric operations \n",
    "\n",
    "## 2. Translating/Moving"
   ]
  },
  {
   "cell_type": "code",
   "execution_count": null,
   "id": "d1ffd0f4",
   "metadata": {},
   "outputs": [],
   "source": [
    "img_filename = \"GFP_06-DAPI.tif\"\n",
    "\n",
    "img = imageio.imread(img_filename, format='tif')\n",
    "\n",
    "fig, ax = plt.subplots(1, 2)\n",
    "ax[0].imshow(img, cmap='gray')\n",
    "\n",
    "# Set parameters\n",
    "tx = 30 # px\n",
    "ty = 80 # px\n",
    "\n",
    "# compute size of the new image\n",
    "rows0, cols0 = img.shape\n",
    "rows1 = rows0\n",
    "cols1 = cols0\n",
    "\n",
    "img_new = np.zeros((rows1, cols1))\n",
    "\n",
    "for yn in range(rows1):\n",
    "    y0 = yn - ty\n",
    "    \n",
    "    for xn in range(cols1):\n",
    "        x0 = xn - tx\n",
    "        # Can you add a control statement to make the \n",
    "        # out of view area black?\n",
    "        img_new[yn, xn] = img[y0, x0]\n",
    "        \n",
    "ax[1].imshow(img_new, cmap='gray')\n"
   ]
  },
  {
   "cell_type": "markdown",
   "id": "400620d8",
   "metadata": {},
   "source": [
    "# Part III: Geometric operations \n",
    "\n",
    "## 3. Rotating"
   ]
  },
  {
   "cell_type": "code",
   "execution_count": null,
   "id": "315e3203",
   "metadata": {},
   "outputs": [],
   "source": [
    "img_filename = \"GFP_06-DAPI.tif\"\n",
    "\n",
    "img = imageio.imread(img_filename, format='tif')\n",
    "\n",
    "fig, ax = plt.subplots(1, 2)\n",
    "ax[0].imshow(img, cmap='gray')\n",
    "\n",
    "# Set parameters\n",
    "degree = 30\n",
    "\n",
    "# compute size of the new image\n",
    "rows0, cols0 = img.shape\n",
    "\n",
    "rows1 = rows0\n",
    "cols1 = cols0\n",
    "\n",
    "img_new = np.zeros((rows1, cols1))\n",
    "\n",
    "# pre-compute rotation matrix\n",
    "cos_alpha = np.cos(degree / 180.0 * np.pi)\n",
    "sin_alpha = np.sin(degree / 180.0 * np.pi)\n",
    "\n",
    "for yn in range(rows1):    \n",
    "    for xn in range(cols1):\n",
    "        x0 = int(cos_alpha * xn + sin_alpha * yn + 0.5)\n",
    "        y0 = int(-sin_alpha * xn + cos_alpha * yn + 0.5)\n",
    "\n",
    "        if x0 < 0 or y0 < 0 or x0 >= cols0 or y0 >= rows0:\n",
    "            img_new[yn, xn] = 0\n",
    "        else:\n",
    "            img_new[yn, xn] = img[y0, x0]\n",
    "        \n",
    "ax[1].imshow(img_new, cmap='gray')\n"
   ]
  },
  {
   "cell_type": "code",
   "execution_count": null,
   "id": "a44519fa",
   "metadata": {},
   "outputs": [],
   "source": []
  }
 ],
 "metadata": {
  "kernelspec": {
   "display_name": "Python 3 (ipykernel)",
   "language": "python",
   "name": "python3"
  },
  "language_info": {
   "codemirror_mode": {
    "name": "ipython",
    "version": 3
   },
   "file_extension": ".py",
   "mimetype": "text/x-python",
   "name": "python",
   "nbconvert_exporter": "python",
   "pygments_lexer": "ipython3",
   "version": "3.7.3"
  }
 },
 "nbformat": 4,
 "nbformat_minor": 5
}
