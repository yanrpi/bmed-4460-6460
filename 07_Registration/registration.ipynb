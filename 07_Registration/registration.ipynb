{
 "cells": [
  {
   "cell_type": "markdown",
   "metadata": {},
   "source": [
    "## Import modules"
   ]
  },
  {
   "cell_type": "code",
   "execution_count": null,
   "metadata": {},
   "outputs": [],
   "source": [
    "from matplotlib import pyplot as plt\n",
    "import numpy as np\n",
    "import SimpleITK as sitk"
   ]
  },
  {
   "cell_type": "markdown",
   "metadata": {},
   "source": [
    "# Part I: Basic operation with SimpleITK\n",
    "\n",
    "## Load an image using SimpleITK and display the image information"
   ]
  },
  {
   "cell_type": "code",
   "execution_count": null,
   "metadata": {},
   "outputs": [],
   "source": [
    "fn_img0 = 'img0.png'\n",
    "img0 = sitk.ReadImage(fn_img0)\n",
    "print(img0.GetOrigin())\n",
    "print(img0.GetSpacing())\n",
    "print(img0.GetDirection())"
   ]
  },
  {
   "cell_type": "markdown",
   "metadata": {},
   "source": [
    "## Display the image"
   ]
  },
  {
   "cell_type": "code",
   "execution_count": null,
   "metadata": {},
   "outputs": [],
   "source": [
    "# %% Get numpy array from image\n",
    "\n",
    "img0_array = sitk.GetArrayFromImage(img0)\n",
    "\n",
    "plt.imshow(img0_array, cmap='gray')\n",
    "plt.show()"
   ]
  },
  {
   "cell_type": "markdown",
   "metadata": {},
   "source": [
    "# Part II: Image Registration Example"
   ]
  },
  {
   "cell_type": "markdown",
   "metadata": {},
   "source": [
    "## 1. Read Image for Registration"
   ]
  },
  {
   "cell_type": "code",
   "execution_count": null,
   "metadata": {},
   "outputs": [],
   "source": [
    "fixed_image =  sitk.ReadImage('img0.png', sitk.sitkFloat32)\n",
    "moving_image = sitk.ReadImage('img1.png', sitk.sitkFloat32)"
   ]
  },
  {
   "cell_type": "markdown",
   "metadata": {},
   "source": [
    "## 2. Initialization\n",
    "\n",
    "Use `CenteredTransformInitializer` to align the centers of the two volumes and set the center of rotation to the center of the fixed image."
   ]
  },
  {
   "cell_type": "code",
   "execution_count": null,
   "metadata": {},
   "outputs": [],
   "source": [
    "initial_transform = sitk.CenteredTransformInitializer(\n",
    "    fixed_image, \n",
    "    moving_image, \n",
    "    sitk.Euler2DTransform(), \n",
    "    sitk.CenteredTransformInitializerFilter.GEOMETRY)\n",
    "\n",
    "print(initial_transform)\n",
    "\n",
    "\n",
    "# Manual initialization\n",
    "my_initialization = sitk.Euler2DTransform()\n",
    "my_initialization.SetTranslation((7.2, 8.4))\n",
    "print(my_initialization)"
   ]
  },
  {
   "cell_type": "markdown",
   "metadata": {},
   "source": [
    "## 3. Resample the moving image"
   ]
  },
  {
   "cell_type": "code",
   "execution_count": null,
   "metadata": {},
   "outputs": [],
   "source": [
    "moving_resampled = sitk.Resample(moving_image, \n",
    "                                 fixed_image,\n",
    "                                 initial_transform,\n",
    "                                 sitk.sitkLinear,\n",
    "                                 0.0,\n",
    "                                 moving_image.GetPixelID()) # output pixel type"
   ]
  },
  {
   "cell_type": "markdown",
   "metadata": {},
   "source": [
    "## Exercise I\n",
    "\n",
    "1. Replace the initial transform with `my_initialization` in the above code and show the resampled image.\n",
    "2. Change `sitk.sitkLinear` to other interpolators and show the results. Do you see any differences?"
   ]
  },
  {
   "cell_type": "markdown",
   "metadata": {},
   "source": [
    "## 4. Start Image Registration"
   ]
  },
  {
   "cell_type": "code",
   "execution_count": null,
   "metadata": {},
   "outputs": [],
   "source": [
    "registration_method = sitk.ImageRegistrationMethod()\n",
    "\n",
    "# Similarity metric settings.\n",
    "#registration_method.SetMetricAsCorrelation()\n",
    "registration_method.SetMetricAsMeanSquares()\n",
    "\n",
    "registration_method.SetInterpolator(sitk.sitkLinear)\n",
    "\n",
    "# Optimizer settings.\n",
    "registration_method.SetOptimizerAsGradientDescent(\n",
    "    learningRate=0.1, \n",
    "    numberOfIterations=100, \n",
    "    convergenceMinimumValue=1e-6, \n",
    "    convergenceWindowSize=10)\n",
    "\n",
    "# The number of iterations involved in computations are defined by \n",
    "# the convergence window size\n",
    "\n",
    "# Estimating scales of transform parameters a step sizes, from the \n",
    "# maximum voxel shift in physical space caused by a parameter change. \n",
    "registration_method.SetOptimizerScalesFromPhysicalShift()\n",
    "\n",
    "# Initialize registration\n",
    "registration_method.SetInitialTransform(initial_transform, inPlace=False)"
   ]
  },
  {
   "cell_type": "markdown",
   "metadata": {},
   "source": [
    "## 5. Monitor the registration process"
   ]
  },
  {
   "cell_type": "code",
   "execution_count": null,
   "metadata": {},
   "outputs": [],
   "source": [
    "# Callback invoked when the StartEvent happens, sets up our new data.\n",
    "def clear_values():\n",
    "    global metric_values\n",
    "    \n",
    "    metric_values = []\n",
    "\n",
    "\n",
    "# Connect observers so that we can perform plotting \n",
    "# during registration.\n",
    "registration_method.AddCommand(sitk.sitkStartEvent, \n",
    "                               clear_values)\n",
    "    \n",
    "# Callback invoked when the IterationEvent happens, update our data \n",
    "# and display new figure.    \n",
    "def save_values(registration_method):\n",
    "    global metric_values\n",
    "    value = registration_method.GetMetricValue()\n",
    "    metric_values.append(value)\n",
    "    print('Iteration {}: metric value {:.4f}'.format(\n",
    "        len(metric_values), value))\n",
    "    \n",
    "    \n",
    "# Connect observers so that we can perform plotting \n",
    "# during registration.\n",
    "registration_method.AddCommand(sitk.sitkIterationEvent, \n",
    "                               lambda: save_values(registration_method))\n"
   ]
  },
  {
   "cell_type": "markdown",
   "metadata": {},
   "source": [
    "## 6. Get the final registration result"
   ]
  },
  {
   "cell_type": "code",
   "execution_count": null,
   "metadata": {},
   "outputs": [],
   "source": [
    "final_transform = registration_method.Execute(fixed_image, \n",
    "                                              moving_image)\n",
    "\n",
    "print('Final metric value: {0}'.format(\n",
    "    registration_method.GetMetricValue()))\n",
    "print('Optimizer\\'s stopping condition, {0}'.format(\n",
    "    registration_method.GetOptimizerStopConditionDescription()))\n",
    "\n",
    "moving_resampled = sitk.Resample(moving_image,\n",
    "                                 fixed_image,\n",
    "                                 final_transform,\n",
    "                                 sitk.sitkLinear,\n",
    "                                 0.0,\n",
    "                                 moving_image.GetPixelID())\n",
    "\n",
    "# Save image and transformation to local drive\n",
    "#\n",
    "#moving_resampled = sitk.Cast(moving_resampled, sitk.sitkUInt8)\n",
    "#sitk.WriteImage(moving_resampled, 'moving_resampled.png')\n",
    "#sitk.WriteTransform(final_transform, 'final_transform.txt')"
   ]
  },
  {
   "cell_type": "markdown",
   "metadata": {},
   "source": [
    "## Exercise II\n",
    "\n",
    "3. Use `matplotlib.pyplot.plot` to plot the metric values over iterations.\n",
    "4. Show the initial difference image and final difference image after registration.\n",
    "5. Use correlation as image registration metric and repeat steps 3 and 4."
   ]
  }
 ],
 "metadata": {
  "kernelspec": {
   "display_name": "Python 3 (ipykernel)",
   "language": "python",
   "name": "python3"
  },
  "language_info": {
   "codemirror_mode": {
    "name": "ipython",
    "version": 3
   },
   "file_extension": ".py",
   "mimetype": "text/x-python",
   "name": "python",
   "nbconvert_exporter": "python",
   "pygments_lexer": "ipython3",
   "version": "3.7.3"
  }
 },
 "nbformat": 4,
 "nbformat_minor": 2
}
