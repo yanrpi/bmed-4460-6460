{
 "cells": [
  {
   "cell_type": "markdown",
   "id": "d94cda23",
   "metadata": {},
   "source": [
    "# import libraries"
   ]
  },
  {
   "cell_type": "code",
   "execution_count": null,
   "id": "b1a58110",
   "metadata": {},
   "outputs": [],
   "source": [
    "#!/usr/bin/env python3\n",
    "# -*- coding: utf-8 -*-\n",
    "\n",
    "# ******************************************\n",
    "# yanrpi @2023\n",
    "# ******************************************\n",
    "\n",
    "import matplotlib.pyplot as plt\n",
    "import numpy as np\n",
    "import imageio as io"
   ]
  },
  {
   "cell_type": "code",
   "execution_count": null,
   "id": "3ffb3549",
   "metadata": {},
   "outputs": [],
   "source": [
    "# Read an image file\n",
    "\n",
    "fName       = \"GFP_06-DAPI.tif\"\n",
    "image       = io.imread(fName)\n",
    "print(image.shape)"
   ]
  },
  {
   "cell_type": "markdown",
   "id": "6ffc66c9",
   "metadata": {},
   "source": [
    "## Compute GLCM matrix"
   ]
  },
  {
   "cell_type": "code",
   "execution_count": null,
   "id": "593ae0bb",
   "metadata": {},
   "outputs": [],
   "source": [
    "# In the function below, what is the assumption on the values of vx and vy?\n",
    "# Are they integers?\n",
    "# How would you make the code more robust?\n",
    "\n",
    "def compute_glcm(img, vx, vy):\n",
    "    glcm = np.zeros((256, 256), dtype=np.int32)\n",
    "    \n",
    "    for row in range(img.shape[0] - vy):\n",
    "        for col in range(img.shape[1] - vx):\n",
    "            glcm[img[row, col], img[row + vy, col + vx]] += 1\n",
    "            \n",
    "    return glcm"
   ]
  },
  {
   "cell_type": "code",
   "execution_count": null,
   "id": "5833bfec",
   "metadata": {},
   "outputs": [],
   "source": [
    "# Set displacement vector\n",
    "dx = 1\n",
    "dy = 1\n",
    "\n",
    "fig, ax = plt.subplots(1, 2, figsize=(12, 10))\n",
    "\n",
    "ax[0].set_title('Input Image')\n",
    "ax[0].set_axis_off()\n",
    "ax[0].imshow(image, cmap='gray')\n",
    "\n",
    "glcm = compute_glcm(image, dx, dy)\n",
    "print(glcm.min(), glcm.max())\n",
    "#glcm[:15, :15] = 0\n",
    "\n",
    "ax[1].set_title('GLCM matrix for vector (dx={}, dy={})'.format(dx, dy))\n",
    "ax[1].imshow(np.log(glcm + 1.0), cmap = 'inferno')\n",
    "\n",
    "plt.show()"
   ]
  }
 ],
 "metadata": {
  "kernelspec": {
   "display_name": "Python 3 (ipykernel)",
   "language": "python",
   "name": "python3"
  },
  "language_info": {
   "codemirror_mode": {
    "name": "ipython",
    "version": 3
   },
   "file_extension": ".py",
   "mimetype": "text/x-python",
   "name": "python",
   "nbconvert_exporter": "python",
   "pygments_lexer": "ipython3",
   "version": "3.7.3"
  }
 },
 "nbformat": 4,
 "nbformat_minor": 5
}
