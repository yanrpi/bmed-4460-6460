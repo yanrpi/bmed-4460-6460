{
 "cells": [
  {
   "cell_type": "code",
   "execution_count": null,
   "metadata": {},
   "outputs": [],
   "source": [
    "# ******************************************\n",
    "# yanrpi @2021\n",
    "# ******************************************\n",
    "\n",
    "import matplotlib.pyplot as plt\n",
    "\n",
    "import numpy as np\n",
    "\n",
    "from skimage import io\n",
    "from skimage.feature import greycomatrix, greycoprops\n",
    "\n",
    "# If you don't have sklearn:\n",
    "# conda install scikit-learn\n",
    "\n",
    "from sklearn.cluster import KMeans\n",
    "from sklearn.metrics import accuracy_score\n",
    "\n",
    "import os\n",
    "from os import path"
   ]
  },
  {
   "cell_type": "code",
   "execution_count": null,
   "metadata": {},
   "outputs": [],
   "source": [
    "label_train = np.loadtxt('./ct_us/train.txt', dtype='int')\n",
    "print(label_train.shape)\n",
    "print(label_train)\n",
    "number_of_training = label_train.shape[0]\n",
    "\n",
    "folder_train = './ct_us/train'\n",
    "\n",
    "filenames = [path.join(folder_train, 'train_{}.png'.format(i+1)) for i in range(number_of_training)]\n",
    "#print(filenames)\n"
   ]
  },
  {
   "cell_type": "code",
   "execution_count": null,
   "metadata": {
    "scrolled": false
   },
   "outputs": [],
   "source": [
    "# randomly choose an image to demo\n",
    "filename = filenames[8]\n",
    "print(filename)\n",
    "\n",
    "image = io.imread(filename)\n",
    "\n",
    "plt.imshow(image, cmap='gray')\n",
    "print(image.min(), image.max())\n",
    "\n",
    "# 1.a GLCM\n",
    "# https://scikit-image.org/docs/dev/api/skimage.feature.html?highlight=greycomatrix#skimage.feature.greycomatrix\n",
    "comat = greycomatrix(image, [1,2,3], [0, np.pi/4, np.pi/2, 3*np.pi/4, np.pi], normed=True, symmetric=True)\n",
    "comat[0:5,0:5,:,:] = 0 # Suppress background pixels\n",
    "#comat /= comat.max()\n",
    "print(comat.shape)\n",
    "\n",
    "#print(comat[:,:,0,0])"
   ]
  },
  {
   "cell_type": "code",
   "execution_count": null,
   "metadata": {},
   "outputs": [],
   "source": [
    "plt.figure()\n",
    "for i in range(3):\n",
    "    for j in range(5):\n",
    "        plt.subplot(3, 5, i*5 + j + 1)\n",
    "        plt.imshow(comat[:,:,i,j])\n",
    "        plt.axis('off')\n",
    "plt.tight_layout()\n",
    "# 1.b Compute distances between two matrices (comat)"
   ]
  },
  {
   "cell_type": "code",
   "execution_count": null,
   "metadata": {},
   "outputs": [],
   "source": [
    "# https://scikit-image.org/docs/dev/api/skimage.feature.html?highlight=greycoprops#skimage.feature.greycoprops\n",
    "contrast = greycoprops(comat, 'contrast')\n",
    "energy = greycoprops(comat, 'energy')\n",
    "\n",
    "print(contrast.shape)\n",
    "print(contrast)\n",
    "print(energy)"
   ]
  },
  {
   "cell_type": "code",
   "execution_count": null,
   "metadata": {},
   "outputs": [],
   "source": [
    "number_of_files = len(filenames)\n",
    "\n",
    "distances = [1]\n",
    "#distances = [1,2,3,4,5,6,7]\n",
    "angles = [0, np.pi/4]\n",
    "#angles = [0, np.pi/4, np.pi/2, 3*np.pi/4]\n",
    "feature_all = np.zeros((number_of_files, len(distances) * len(angles)))\n",
    "\n",
    "# Go through all the training images\n",
    "for i in range(number_of_files):\n",
    "    #print('Analyzing image {}'.format(filenames[i]))\n",
    "    image = io.imread(filenames[i])\n",
    "    \n",
    "    #comat = greycomatrix(image, , normed=True, symmetric=True)\n",
    "    comat = greycomatrix(image, distances, angles, normed=True, symmetric=True)\n",
    "    comat[0:5,0:5] = 0 # Remove background influence\n",
    "    \n",
    "    # 2. Include other measures\n",
    "    # * energy\n",
    "    # * contrast\n",
    "    # * dissimilarity\n",
    "    # * homogeneity\n",
    "    # * ASM\n",
    "    # * correlation\n",
    "    feature = greycoprops(comat, 'correlation')\n",
    "    \n",
    "    feature_all[i] = feature.ravel()\n"
   ]
  },
  {
   "cell_type": "code",
   "execution_count": null,
   "metadata": {},
   "outputs": [],
   "source": [
    "#colors = ['red' if label_train[i] else 'blue' for i in range(number_of_files)]\n",
    "#plt.scatter(feature_all[:,0], feature_all[:,1], c = colors, label = label_train)"
   ]
  },
  {
   "cell_type": "code",
   "execution_count": null,
   "metadata": {},
   "outputs": [],
   "source": [
    "#X = np.concatenate((contrast_all, energy_all), axis=1)\n",
    "#X = energy_all\n",
    "\n",
    "# https://scikit-learn.org/stable/modules/generated/sklearn.cluster.KMeans.html\n",
    "kmeans = KMeans(n_clusters=2, random_state=0).fit(feature_all)\n",
    "\n",
    "print(kmeans.labels_)\n",
    "print(label_train)\n",
    "\n",
    "print('The classification accuracy is: {}'.format(accuracy_score(label_train, kmeans.labels_)))\n",
    "print('The classification accuracy is: {}'.format(accuracy_score(label_train, 1 - kmeans.labels_)))"
   ]
  },
  {
   "cell_type": "code",
   "execution_count": null,
   "metadata": {},
   "outputs": [],
   "source": []
  }
 ],
 "metadata": {
  "kernelspec": {
   "display_name": "Python 3 (ipykernel)",
   "language": "python",
   "name": "python3"
  },
  "language_info": {
   "codemirror_mode": {
    "name": "ipython",
    "version": 3
   },
   "file_extension": ".py",
   "mimetype": "text/x-python",
   "name": "python",
   "nbconvert_exporter": "python",
   "pygments_lexer": "ipython3",
   "version": "3.7.3"
  }
 },
 "nbformat": 4,
 "nbformat_minor": 2
}
