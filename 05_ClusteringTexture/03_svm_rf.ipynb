{
 "cells": [
  {
   "cell_type": "code",
   "execution_count": null,
   "metadata": {},
   "outputs": [],
   "source": [
    "# ******************************************\n",
    "# yanrpi @2021\n",
    "# ******************************************\n",
    "\n",
    "import matplotlib.pyplot as plt\n",
    "\n",
    "import numpy as np\n",
    "\n",
    "from skimage import io\n",
    "from skimage.feature import greycomatrix, greycoprops\n",
    "\n",
    "from sklearn.svm import SVC\n",
    "from sklearn.metrics import accuracy_score\n",
    "\n",
    "import os\n",
    "from os import path"
   ]
  },
  {
   "cell_type": "code",
   "execution_count": null,
   "metadata": {},
   "outputs": [],
   "source": [
    "label_train = np.loadtxt('./ct_us/train.txt', dtype='int')\n",
    "print(label_train.shape)\n",
    "number_of_training = label_train.shape[0]\n",
    "\n",
    "folder_train = './ct_us/train'\n",
    "\n",
    "filenames_train = [path.join(folder_train, 'train_{}.png'.format(i+1)) for i in range(number_of_training)]\n",
    "#print(filenames_train)\n"
   ]
  },
  {
   "cell_type": "markdown",
   "metadata": {},
   "source": [
    "# Compute image features"
   ]
  },
  {
   "cell_type": "code",
   "execution_count": null,
   "metadata": {},
   "outputs": [],
   "source": [
    "feature_set = ['energy', 'contrast', 'dissimilarity', 'homogeneity', 'ASM', 'correlation']\n",
    "\n",
    "def compute_features(filenames):\n",
    "    number_of_files = len(filenames)\n",
    "\n",
    "    distances = [1,2,3]\n",
    "    #distances = [1,2,3,4,5,6,7]\n",
    "    #angles = [0, np.pi/4]\n",
    "    angles = [0, np.pi/4, np.pi/2, 3*np.pi/4]\n",
    "    property_size = len(distances) * len(angles)\n",
    "    feature_size = property_size * len(feature_set)\n",
    "    feature_all = np.zeros((number_of_files, feature_size))\n",
    "\n",
    "    # Go through all the training images\n",
    "    for i in range(number_of_files):\n",
    "        #print('Analyzing image {}'.format(filenames[i]))\n",
    "        image = io.imread(filenames[i])\n",
    "\n",
    "        #comat = greycomatrix(image, , normed=True, symmetric=True)\n",
    "        comat = greycomatrix(image, distances, angles, normed=True, symmetric=True)\n",
    "        comat[0:5,0:5] = 0 # Remove background influence\n",
    "        \n",
    "        # 1. Include other measures\n",
    "        # * energy\n",
    "        # * contrast\n",
    "        # * dissimilarity\n",
    "        # * homogeneity\n",
    "        # * ASM\n",
    "        # * correlation\n",
    "        feature = np.zeros((len(feature_set), property_size))\n",
    "        for f in range(len(feature_set)):\n",
    "            properties = greycoprops(comat, feature_set[f])\n",
    "            # Apply simple normalization\n",
    "            properties /= properties.max()\n",
    "            feature[f] = properties.ravel()\n",
    "\n",
    "        feature_all[i] = feature.ravel()\n",
    "        \n",
    "    return feature_all"
   ]
  },
  {
   "cell_type": "markdown",
   "metadata": {},
   "source": [
    "# Support Vector Machine for Classification\n",
    "## Support Vector Classification (SVC)"
   ]
  },
  {
   "cell_type": "code",
   "execution_count": null,
   "metadata": {},
   "outputs": [],
   "source": [
    "#X = np.concatenate((contrast_all, energy_all), axis=1)\n",
    "X = compute_features(filenames_train)\n",
    "print(X.shape, label_train.shape)\n",
    "\n",
    "# https://scikit-learn.org/stable/modules/generated/sklearn.svm.SVC.html\n",
    "#\n",
    "# 3. Work with other kernels\n",
    "#\n",
    "clf = SVC(gamma='auto', kernel='rbf')\n",
    "clf.fit(X, label_train)\n",
    "\n",
    "# Compute training accuracy\n",
    "y_pred = clf.predict(X)\n",
    "print('The training accuracy is: {}'.format(accuracy_score(label_train, y_pred)))"
   ]
  },
  {
   "cell_type": "markdown",
   "metadata": {},
   "source": [
    "## Load validation set"
   ]
  },
  {
   "cell_type": "code",
   "execution_count": null,
   "metadata": {},
   "outputs": [],
   "source": [
    "label_val = np.loadtxt('./ct_us/val.txt', dtype='int')\n",
    "print('We have {} validation images'.format(label_val.shape[0]))\n",
    "number_of_validation = label_val.shape[0]\n",
    "\n",
    "folder_val = './ct_us/validation'\n",
    "\n",
    "filenames_val = [path.join(folder_val, 'val_{}.png'.format(i+1)) for i in range(number_of_validation)]\n",
    "#print(filenames_val)"
   ]
  },
  {
   "cell_type": "markdown",
   "metadata": {},
   "source": [
    "## Perform Validation"
   ]
  },
  {
   "cell_type": "code",
   "execution_count": null,
   "metadata": {},
   "outputs": [],
   "source": [
    "X_val = compute_features(filenames_val)\n",
    "\n",
    "pred_label = clf.predict(X_val)\n",
    "\n",
    "print(pred_label)\n",
    "print(label_val)\n",
    "\n",
    "print('The validation accuracy is: {}'.format(accuracy_score(label_val, pred_label)))"
   ]
  },
  {
   "cell_type": "markdown",
   "metadata": {},
   "source": [
    "# Random Forest"
   ]
  },
  {
   "cell_type": "code",
   "execution_count": null,
   "metadata": {},
   "outputs": [],
   "source": [
    "# 4. Random Forest with different numbers of trees\n",
    "# https://scikit-learn.org/stable/modules/generated/sklearn.ensemble.RandomForestClassifier.html?highlight=random%20forest#sklearn.ensemble.RandomForestClassifier\n",
    "#\n",
    "# from sklearn.ensemble import RandomForestClassifier\n",
    "# clf = RandomForestClassifier(random_state=0)"
   ]
  },
  {
   "cell_type": "code",
   "execution_count": null,
   "metadata": {},
   "outputs": [],
   "source": []
  }
 ],
 "metadata": {
  "kernelspec": {
   "display_name": "Python 3 (ipykernel)",
   "language": "python",
   "name": "python3"
  },
  "language_info": {
   "codemirror_mode": {
    "name": "ipython",
    "version": 3
   },
   "file_extension": ".py",
   "mimetype": "text/x-python",
   "name": "python",
   "nbconvert_exporter": "python",
   "pygments_lexer": "ipython3",
   "version": "3.7.3"
  }
 },
 "nbformat": 4,
 "nbformat_minor": 2
}
